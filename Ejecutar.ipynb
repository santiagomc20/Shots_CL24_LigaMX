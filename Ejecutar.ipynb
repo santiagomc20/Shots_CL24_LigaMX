{
 "cells": [
  {
   "cell_type": "code",
   "execution_count": 1,
   "metadata": {},
   "outputs": [],
   "source": [
    "import os\n",
    "import pandas as pd\n",
    "import mplsoccer\n",
    "import subprocess"
   ]
  },
  {
   "cell_type": "code",
   "execution_count": 2,
   "metadata": {},
   "outputs": [
    {
     "name": "stdout",
     "output_type": "stream",
     "text": [
      "Streamlit está corriendo. Ve al navegador y abre http://localhost:8501\n"
     ]
    }
   ],
   "source": [
    "import subprocess\n",
    "\n",
    "def lanzar_streamlit_app():\n",
    "    try:\n",
    "        # Ejecutar Streamlit usando subprocess.Popen para que corra en segundo plano\n",
    "        proceso = subprocess.Popen([\"streamlit\", \"run\", \"Streamlit_Shots_CL24.py\"], stdout=subprocess.PIPE, stderr=subprocess.PIPE)\n",
    "\n",
    "        # Mensaje para el usuario indicando que la app se lanzó\n",
    "        print(\"Streamlit está corriendo. Ve al navegador y abre http://localhost:8501\")\n",
    "        \n",
    "        return proceso  # Devolver el proceso en caso de querer interactuar con él después\n",
    "\n",
    "    except FileNotFoundError as e:\n",
    "        print(f\"Error: No se encontró el archivo Streamlit_Shots_CL24.py o Streamlit no está instalado.\\n{e}\")\n",
    "    except Exception as e:\n",
    "        print(f\"Error inesperado: {e}\")\n",
    "\n",
    "# Llamar la función para lanzar la aplicación\n",
    "proceso_streamlit = lanzar_streamlit_app()\n"
   ]
  }
 ],
 "metadata": {
  "kernelspec": {
   "display_name": "base",
   "language": "python",
   "name": "python3"
  },
  "language_info": {
   "codemirror_mode": {
    "name": "ipython",
    "version": 3
   },
   "file_extension": ".py",
   "mimetype": "text/x-python",
   "name": "python",
   "nbconvert_exporter": "python",
   "pygments_lexer": "ipython3",
   "version": "3.12.4"
  }
 },
 "nbformat": 4,
 "nbformat_minor": 2
}
